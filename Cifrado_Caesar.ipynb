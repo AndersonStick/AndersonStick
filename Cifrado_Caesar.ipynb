{
  "nbformat": 4,
  "nbformat_minor": 0,
  "metadata": {
    "colab": {
      "provenance": [],
      "authorship_tag": "ABX9TyNRm05aUYL3RL+ARD6yrMoF",
      "include_colab_link": true
    },
    "kernelspec": {
      "name": "python3",
      "display_name": "Python 3"
    },
    "language_info": {
      "name": "python"
    }
  },
  "cells": [
    {
      "cell_type": "markdown",
      "metadata": {
        "id": "view-in-github",
        "colab_type": "text"
      },
      "source": [
        "<a href=\"https://colab.research.google.com/github/AndersonStick/AndersonStick/blob/main/Cifrado_Caesar.ipynb\" target=\"_parent\"><img src=\"https://colab.research.google.com/assets/colab-badge.svg\" alt=\"Open In Colab\"/></a>"
      ]
    },
    {
      "cell_type": "markdown",
      "source": [
        "# **Cifrado Caesar HOMEWORK**\n",
        "## Anderson Stick Barrera Tovar\n",
        "### 1000623506"
      ],
      "metadata": {
        "id": "ok13OYvx_gs-"
      }
    },
    {
      "cell_type": "markdown",
      "source": [
        "Implementar el algoritmo de cifrado del César en Python. Utilizar un parámetro para identificar el parámetro k (permutaciones).\n",
        "\n",
        "El algoritmo debe recibir como entrada para cifrar:\n",
        "- El mensaje en texto claro\n",
        "- El parámetro k\n",
        "\n",
        "Para descifrar:\n",
        "- Mensaje cifrado\n",
        "- El parámetro k\n",
        "\n",
        "Cargar en esta tarea un archivo ZIP con lo siguiente:\n",
        "- Archivo Python\n",
        "- Pequeño video o screenshot (pantallazo) en donde se muestre funcionar el algoritmo"
      ],
      "metadata": {
        "id": "OZDjYZqQ_w5L"
      }
    },
    {
      "cell_type": "markdown",
      "source": [
        "# Implementación del cifrado César en Python\n",
        "\n",
        "A continuación, se presenta la implementación del algoritmo de cifrado César en Python. Este algoritmo permite cifrar y descifrar mensajes utilizando un parámetro para identificar el número de permutaciones, denotado como k.\n",
        "\n",
        "## Cifrado César\n",
        "\n",
        "El cifrado César es un tipo de cifrado por sustitución en el que cada letra en el texto es reemplazada por una letra que se encuentra un número fijo de posiciones más adelante en el alfabeto. Por ejemplo, con un desplazamiento de 3 posiciones, 'A' se convertiría en 'D', 'B' se convertiría en 'E', y así sucesivamente.\n",
        "\n",
        "El algoritmo recibe como entrada:\n",
        "- El mensaje en texto claro.\n",
        "- El parámetro k, que denota el número de permutaciones.\n"
      ],
      "metadata": {
        "id": "x3sNZrCc-_0v"
      }
    },
    {
      "cell_type": "markdown",
      "source": [
        "### Función para cifrar un mensaje:"
      ],
      "metadata": {
        "id": "0ibe2CFxAHAK"
      }
    },
    {
      "cell_type": "code",
      "source": [
        "def encrypt_caesar_cipher(plaintext, k):\n",
        "    encrypted_text = \"\"\n",
        "    for char in plaintext:\n",
        "        if char.isalpha():\n",
        "            # Find the index of the letter in the alphabet\n",
        "            char_index = ord(char.lower()) - ord('a')\n",
        "            # Calculate the new index applying the shift\n",
        "            new_index = (char_index + k) % 26\n",
        "            # Convert the new index back to a character\n",
        "            encrypted_char = chr(new_index + ord('a'))\n",
        "            # Preserve uppercase if the original character was uppercase\n",
        "            if char.isupper():\n",
        "                encrypted_char = encrypted_char.upper()\n",
        "            # Add the encrypted character to the encrypted text\n",
        "            encrypted_text += encrypted_char\n",
        "        else:\n",
        "            # If it's not a letter of the alphabet, simply add the character as is\n",
        "            encrypted_text += char\n",
        "    return encrypted_text"
      ],
      "metadata": {
        "id": "dFieMNVNAEgp"
      },
      "execution_count": 1,
      "outputs": []
    },
    {
      "cell_type": "markdown",
      "source": [
        "\n",
        "### Función para descifrar un mensaje:\n"
      ],
      "metadata": {
        "id": "UHV8M2hR_TXD"
      }
    },
    {
      "cell_type": "code",
      "source": [
        "def decrypt_caesar_cipher(ciphertext, k):\n",
        "    decrypted_text = \"\"\n",
        "    for char in ciphertext:\n",
        "        if char.isalpha():\n",
        "            # Find the index of the letter in the alphabet\n",
        "            char_index = ord(char.lower()) - ord('a')\n",
        "            # Calculate the new index applying the inverse shift\n",
        "            new_index = (char_index - k) % 26\n",
        "            decrypted_char = chr(new_index + ord('a'))\n",
        "            if char.isupper():\n",
        "                decrypted_char = decrypted_char.upper()\n",
        "            decrypted_text += decrypted_char\n",
        "        else:\n",
        "            decrypted_text += char\n",
        "    return decrypted_text"
      ],
      "metadata": {
        "id": "ArkdnnblAQCu"
      },
      "execution_count": 2,
      "outputs": []
    },
    {
      "cell_type": "markdown",
      "source": [
        "## Ejemplo de uso:"
      ],
      "metadata": {
        "id": "NkIUzlDBAPAh"
      }
    },
    {
      "cell_type": "code",
      "source": [
        "# Cifrar un mensaje\n",
        "mensaje = \"Hola Mundo\"\n",
        "k = 3\n",
        "mensaje_cifrado = encrypt_caesar_cipher(mensaje, k)\n",
        "print(\"Mensaje cifrado:\", mensaje_cifrado)\n",
        "\n",
        "# Descifrar el mensaje cifrado\n",
        "mensaje_descifrado = decrypt_caesar_cipher(mensaje_cifrado, k)\n",
        "print(\"Mensaje descifrado:\", mensaje_descifrado)"
      ],
      "metadata": {
        "colab": {
          "base_uri": "https://localhost:8080/"
        },
        "id": "NjtE22zC_7g4",
        "outputId": "ca1cae68-e10f-43c8-9ccb-e5be4877a957"
      },
      "execution_count": 3,
      "outputs": [
        {
          "output_type": "stream",
          "name": "stdout",
          "text": [
            "Mensaje cifrado: Krod Pxqgr\n",
            "Mensaje descifrado: Hola Mundo\n"
          ]
        }
      ]
    },
    {
      "cell_type": "code",
      "source": [
        "def decrypt_caesar(message, shift):\n",
        "    decrypted_message = \"\"\n",
        "    for char in message:\n",
        "        if char.isalpha():\n",
        "            shifted = ord(char) - shift\n",
        "            if char.islower():\n",
        "                if shifted < ord('a'):\n",
        "                    shifted += 26\n",
        "            elif char.isupper():\n",
        "                if shifted < ord('A'):\n",
        "                    shifted += 26\n",
        "            decrypted_message += chr(shifted)\n",
        "        else:\n",
        "            decrypted_message += char\n",
        "    return decrypted_message"
      ],
      "metadata": {
        "id": "T03IMSPp6b9h"
      },
      "execution_count": 11,
      "outputs": []
    },
    {
      "cell_type": "code",
      "source": [
        "def decrypt_message_with_permutations(ciphertext):\n",
        "    decrypted_messages = []\n",
        "    for shift in range(4):\n",
        "        decrypted_message = \"\"\n",
        "        for i in range(0, len(ciphertext), 5):\n",
        "            segment = ciphertext[i:i+5]\n",
        "            decrypted_segment = decrypt_caesar(segment, shift)\n",
        "            decrypted_message += decrypted_segment\n",
        "        decrypted_messages.append(decrypted_message)\n",
        "    return decrypted_messages"
      ],
      "metadata": {
        "id": "YB0AI_rfFdOF"
      },
      "execution_count": 12,
      "outputs": []
    },
    {
      "cell_type": "code",
      "source": [
        "ciphertext = \"WKLVL VHAWU HPHOB LQVHF XUHHQ FUBSW LRQGR QRWXV HLWWR SURWH FWYDO XDEOH LQIRU PDWLR Q\"\n",
        "decrypted_messages = decrypt_message_with_permutations(ciphertext)\n",
        "for idx, message in enumerate(decrypted_messages):\n",
        "    print(f\"Decrypted Message with shift {idx + 1}: {message}\")"
      ],
      "metadata": {
        "colab": {
          "base_uri": "https://localhost:8080/"
        },
        "id": "4-kp9Ulz99uh",
        "outputId": "96e12daf-1089-41c1-c1de-667fce79842d"
      },
      "execution_count": 16,
      "outputs": [
        {
          "output_type": "stream",
          "name": "stdout",
          "text": [
            "Decrypted Message with shift 1: WKLVL VHAWU HPHOB LQVHF XUHHQ FUBSW LRQGR QRWXV HLWWR SURWH FWYDO XDEOH LQIRU PDWLR Q\n",
            "Decrypted Message with shift 2: VJKUK UGZVT GOGNA KPUGE WTGGP ETARV KQPFQ PQVWU GKVVQ RTQVG EVXCN WCDNG KPHQT OCVKQ P\n",
            "Decrypted Message with shift 3: UIJTJ TFYUS FNFMZ JOTFD VSFFO DSZQU JPOEP OPUVT FJUUP QSPUF DUWBM VBCMF JOGPS NBUJP O\n",
            "Decrypted Message with shift 4: THISI SEXTR EMELY INSEC UREEN CRYPT IONDO NOTUS EITTO PROTE CTVAL UABLE INFOR MATIO N\n"
          ]
        }
      ]
    },
    {
      "cell_type": "markdown",
      "source": [
        "Message 2 Then the and\n",
        "LWLVF ODLPH GWKHH DUOLH VWNQR ZQUHI HUHQF HWRWK LVWBS HRIFL SKHUL VLQWK HNDPD VXWUD ZKLFK VDBVZ RPHQV KRXOG OHDUQ WKHDU WRIVH FUHWZ ULWLQ JWRFR QFHDO WKHLU OLDVR QV"
      ],
      "metadata": {
        "id": "cOjsnhED9u_G"
      }
    },
    {
      "cell_type": "code",
      "source": [
        "ciphertext = \"LWLVF ODLPH GWKHH DUOLH VWNQR ZQUHI HUHQF HWRWK LVWBS HRIFL SKHUL VLQWK HNDPD VXWUD ZKLFK VDBVZ RPHQV KRXOG OHDUQ WKHDU WRIVH FUHWZ ULWLQ JWRFR QFHDO WKHLU OLDVR QV\"\n",
        "decrypted_messages = decrypt_message_with_permutations(ciphertext)\n",
        "for idx, message in enumerate(decrypted_messages):\n",
        "    print(f\"Decrypted Message with shift {idx + 1}: {message}\")"
      ],
      "metadata": {
        "colab": {
          "base_uri": "https://localhost:8080/"
        },
        "id": "7lOj8lfT9m3S",
        "outputId": "726a5989-4361-4337-a65b-36689f6486df"
      },
      "execution_count": 17,
      "outputs": [
        {
          "output_type": "stream",
          "name": "stdout",
          "text": [
            "Decrypted Message with shift 1: LWLVF ODLPH GWKHH DUOLH VWNQR ZQUHI HUHQF HWRWK LVWBS HRIFL SKHUL VLQWK HNDPD VXWUD ZKLFK VDBVZ RPHQV KRXOG OHDUQ WKHDU WRIVH FUHWZ ULWLQ JWRFR QFHDO WKHLU OLDVR QV\n",
            "Decrypted Message with shift 2: KVKUE NCKOG FVJGG CTNKG UVMPQ YPTGH GTGPE GVQVJ KUVAR GQHEK RJGTK UKPVJ GMCOC UWVTC YJKEJ UCAUY QOGPU JQWNF NGCTP VJGCT VQHUG ETGVY TKVKP IVQEQ PEGCN VJGKT NKCUQ PU\n",
            "Decrypted Message with shift 3: JUJTD MBJNF EUIFF BSMJF TULOP XOSFG FSFOD FUPUI JTUZQ FPGDJ QIFSJ TJOUI FLBNB TVUSB XIJDI TBZTX PNFOT IPVME MFBSO UIFBS UPGTF DSFUX SJUJO HUPDP ODFBM UIFJS MJBTP OT\n",
            "Decrypted Message with shift 4: ITISC LAIME DTHEE ARLIE STKNO WNREF ERENC ETOTH ISTYP EOFCI PHERI SINTH EKAMA SUTRA WHICH SAYSW OMENS HOULD LEARN THEAR TOFSE CRETW RITIN GTOCO NCEAL THEIR LIASO NS\n"
          ]
        }
      ]
    },
    {
      "cell_type": "markdown",
      "source": [],
      "metadata": {
        "id": "a0U75Y3W_60u"
      }
    }
  ]
}